{
 "cells": [
  {
   "cell_type": "markdown",
   "metadata": {},
   "source": [
    "# **机器学习**"
   ]
  },
  {
   "cell_type": "code",
   "execution_count": 262,
   "metadata": {
    "collapsed": true
   },
   "outputs": [],
   "source": [
    "import pymongo\n",
    "import pandas as pd\n",
    "from pandas import Series\n",
    "client = pymongo.MongoClient('localhost',27017)\n",
    "db  = client['Graduation_project']\n",
    "table = db['jobs_info']\n",
    "data = pd.DataFrame(list(table.find()))\n",
    "del data['_id']\n",
    "del data['signal']"
   ]
  },
  {
   "cell_type": "code",
   "execution_count": 263,
   "metadata": {},
   "outputs": [
    {
     "data": {
      "text/plain": [
       "(65059, 8)"
      ]
     },
     "execution_count": 263,
     "metadata": {},
     "output_type": "execute_result"
    }
   ],
   "source": [
    "data.shape # 65059 rows × 8 columns"
   ]
  },
  {
   "cell_type": "code",
   "execution_count": 264,
   "metadata": {
    "collapsed": true
   },
   "outputs": [],
   "source": [
    "import re\n",
    "# 均值函数\n",
    "def average(job_salary):\n",
    "    # 取薪资均值----------------\n",
    "    pattern = re.compile('\\d+')\n",
    "    salary = job_salary\n",
    "    try:\n",
    "        res = re.findall(pattern, salary)\n",
    "        avg_salary = 0\n",
    "        sum = 0\n",
    "        for i in res:\n",
    "            a = int(i)\n",
    "            sum = sum + a\n",
    "            avg_salary = sum / 2\n",
    "    except Exception:\n",
    "        avg_salary = 0\n",
    "    # 函数返回值\n",
    "    return avg_salary"
   ]
  },
  {
   "cell_type": "code",
   "execution_count": 265,
   "metadata": {
    "collapsed": true
   },
   "outputs": [],
   "source": [
    "salary_list = []\n",
    "for i in range(0,65059):\n",
    "    avg_sal = average(data['职位薪资'][i])\n",
    "    salary_list.append(avg_sal)"
   ]
  },
  {
   "cell_type": "code",
   "execution_count": 266,
   "metadata": {},
   "outputs": [],
   "source": [
    "sal = Series(salary_list)"
   ]
  },
  {
   "cell_type": "code",
   "execution_count": 267,
   "metadata": {},
   "outputs": [],
   "source": [
    "data.insert(8,'salary',sal)"
   ]
  },
  {
   "cell_type": "code",
   "execution_count": 268,
   "metadata": {},
   "outputs": [],
   "source": [
    "#data"
   ]
  },
  {
   "cell_type": "code",
   "execution_count": 269,
   "metadata": {
    "scrolled": false
   },
   "outputs": [
    {
     "data": {
      "text/html": [
       "<div>\n",
       "<style scoped>\n",
       "    .dataframe tbody tr th:only-of-type {\n",
       "        vertical-align: middle;\n",
       "    }\n",
       "\n",
       "    .dataframe tbody tr th {\n",
       "        vertical-align: top;\n",
       "    }\n",
       "\n",
       "    .dataframe thead th {\n",
       "        text-align: right;\n",
       "    }\n",
       "</style>\n",
       "<table border=\"1\" class=\"dataframe\">\n",
       "  <thead>\n",
       "    <tr style=\"text-align: right;\">\n",
       "      <th></th>\n",
       "      <th>城市</th>\n",
       "      <th>职位名称</th>\n",
       "      <th>工作经验</th>\n",
       "      <th>公司规模</th>\n",
       "      <th>学历要求</th>\n",
       "      <th>salary</th>\n",
       "    </tr>\n",
       "  </thead>\n",
       "  <tbody>\n",
       "    <tr>\n",
       "      <th>0</th>\n",
       "      <td>北京</td>\n",
       "      <td>数据分析</td>\n",
       "      <td>经验不限</td>\n",
       "      <td>10000人以上</td>\n",
       "      <td>本科</td>\n",
       "      <td>8.0</td>\n",
       "    </tr>\n",
       "    <tr>\n",
       "      <th>1</th>\n",
       "      <td>北京</td>\n",
       "      <td>数据分析师</td>\n",
       "      <td>1-3年</td>\n",
       "      <td>100-499人</td>\n",
       "      <td>本科</td>\n",
       "      <td>27.5</td>\n",
       "    </tr>\n",
       "    <tr>\n",
       "      <th>2</th>\n",
       "      <td>北京</td>\n",
       "      <td>数据分析师</td>\n",
       "      <td>3-5年</td>\n",
       "      <td>1000-9999人</td>\n",
       "      <td>本科</td>\n",
       "      <td>20.0</td>\n",
       "    </tr>\n",
       "    <tr>\n",
       "      <th>3</th>\n",
       "      <td>北京</td>\n",
       "      <td>数据分析</td>\n",
       "      <td>经验不限</td>\n",
       "      <td>10000人以上</td>\n",
       "      <td>本科</td>\n",
       "      <td>9.0</td>\n",
       "    </tr>\n",
       "    <tr>\n",
       "      <th>4</th>\n",
       "      <td>北京</td>\n",
       "      <td>数据分析师</td>\n",
       "      <td>3-5年</td>\n",
       "      <td>10000人以上</td>\n",
       "      <td>本科</td>\n",
       "      <td>12.5</td>\n",
       "    </tr>\n",
       "  </tbody>\n",
       "</table>\n",
       "</div>"
      ],
      "text/plain": [
       "   城市   职位名称  工作经验        公司规模 学历要求  salary\n",
       "0  北京   数据分析  经验不限    10000人以上   本科     8.0\n",
       "1  北京  数据分析师  1-3年    100-499人   本科    27.5\n",
       "2  北京  数据分析师  3-5年  1000-9999人   本科    20.0\n",
       "3  北京   数据分析  经验不限    10000人以上   本科     9.0\n",
       "4  北京  数据分析师  3-5年    10000人以上   本科    12.5"
      ]
     },
     "execution_count": 269,
     "metadata": {},
     "output_type": "execute_result"
    }
   ],
   "source": [
    "job_data = data[['城市','职位名称','工作经验','公司规模','学历要求','salary']]\n",
    "job_data.head()"
   ]
  },
  {
   "cell_type": "code",
   "execution_count": 270,
   "metadata": {},
   "outputs": [
    {
     "data": {
      "text/plain": [
       "(65059, 6)"
      ]
     },
     "execution_count": 270,
     "metadata": {},
     "output_type": "execute_result"
    }
   ],
   "source": [
    "job_data.shape # 65059条数据"
   ]
  },
  {
   "cell_type": "markdown",
   "metadata": {},
   "source": [
    "### 薪资分布"
   ]
  },
  {
   "cell_type": "code",
   "execution_count": 271,
   "metadata": {
    "scrolled": false
   },
   "outputs": [
    {
     "data": {
      "image/png": "[encoded data removed]",
      "text/plain": [
       "<matplotlib.figure.Figure at 0x20c6a80c438>"
      ]
     },
     "metadata": {},
     "output_type": "display_data"
    }
   ],
   "source": [
    "%matplotlib inline\n",
    "import matplotlib.pyplot as plt\n",
    "job_data.hist(bins=50, figsize=(8,5))\n",
    "# save_fig(\"attribute_histogram_plots\")\n",
    "plt.show()"
   ]
  },
  {
   "cell_type": "markdown",
   "metadata": {},
   "source": [
    "# 数据清洗"
   ]
  },
  {
   "cell_type": "markdown",
   "metadata": {},
   "source": [
    "## 去重"
   ]
  },
  {
   "cell_type": "code",
   "execution_count": 272,
   "metadata": {},
   "outputs": [
    {
     "data": {
      "text/html": [
       "<div>\n",
       "<style scoped>\n",
       "    .dataframe tbody tr th:only-of-type {\n",
       "        vertical-align: middle;\n",
       "    }\n",
       "\n",
       "    .dataframe tbody tr th {\n",
       "        vertical-align: top;\n",
       "    }\n",
       "\n",
       "    .dataframe thead th {\n",
       "        text-align: right;\n",
       "    }\n",
       "</style>\n",
       "<table border=\"1\" class=\"dataframe\">\n",
       "  <thead>\n",
       "    <tr style=\"text-align: right;\">\n",
       "      <th></th>\n",
       "      <th>城市</th>\n",
       "      <th>职位名称</th>\n",
       "      <th>工作经验</th>\n",
       "      <th>公司规模</th>\n",
       "      <th>学历要求</th>\n",
       "      <th>salary</th>\n",
       "    </tr>\n",
       "  </thead>\n",
       "  <tbody>\n",
       "    <tr>\n",
       "      <th>0</th>\n",
       "      <td>北京</td>\n",
       "      <td>数据分析</td>\n",
       "      <td>经验不限</td>\n",
       "      <td>10000人以上</td>\n",
       "      <td>本科</td>\n",
       "      <td>8.0</td>\n",
       "    </tr>\n",
       "    <tr>\n",
       "      <th>1</th>\n",
       "      <td>北京</td>\n",
       "      <td>数据分析师</td>\n",
       "      <td>1-3年</td>\n",
       "      <td>100-499人</td>\n",
       "      <td>本科</td>\n",
       "      <td>27.5</td>\n",
       "    </tr>\n",
       "    <tr>\n",
       "      <th>2</th>\n",
       "      <td>北京</td>\n",
       "      <td>数据分析师</td>\n",
       "      <td>3-5年</td>\n",
       "      <td>1000-9999人</td>\n",
       "      <td>本科</td>\n",
       "      <td>20.0</td>\n",
       "    </tr>\n",
       "    <tr>\n",
       "      <th>3</th>\n",
       "      <td>北京</td>\n",
       "      <td>数据分析</td>\n",
       "      <td>经验不限</td>\n",
       "      <td>10000人以上</td>\n",
       "      <td>本科</td>\n",
       "      <td>9.0</td>\n",
       "    </tr>\n",
       "    <tr>\n",
       "      <th>4</th>\n",
       "      <td>北京</td>\n",
       "      <td>数据分析师</td>\n",
       "      <td>3-5年</td>\n",
       "      <td>10000人以上</td>\n",
       "      <td>本科</td>\n",
       "      <td>12.5</td>\n",
       "    </tr>\n",
       "  </tbody>\n",
       "</table>\n",
       "</div>"
      ],
      "text/plain": [
       "   城市   职位名称  工作经验        公司规模 学历要求  salary\n",
       "0  北京   数据分析  经验不限    10000人以上   本科     8.0\n",
       "1  北京  数据分析师  1-3年    100-499人   本科    27.5\n",
       "2  北京  数据分析师  3-5年  1000-9999人   本科    20.0\n",
       "3  北京   数据分析  经验不限    10000人以上   本科     9.0\n",
       "4  北京  数据分析师  3-5年    10000人以上   本科    12.5"
      ]
     },
     "execution_count": 272,
     "metadata": {},
     "output_type": "execute_result"
    }
   ],
   "source": [
    "jobs = job_data.drop_duplicates()\n",
    "jobs.head()"
   ]
  },
  {
   "cell_type": "code",
   "execution_count": 273,
   "metadata": {},
   "outputs": [
    {
     "data": {
      "text/plain": [
       "(59142, 6)"
      ]
     },
     "execution_count": 273,
     "metadata": {},
     "output_type": "execute_result"
    }
   ],
   "source": [
    "jobs.shape # 61759条数据"
   ]
  },
  {
   "cell_type": "markdown",
   "metadata": {},
   "source": [
    "## 过滤"
   ]
  },
  {
   "cell_type": "code",
   "execution_count": 274,
   "metadata": {},
   "outputs": [],
   "source": [
    "jobs_copy = jobs.copy()"
   ]
  },
  {
   "cell_type": "markdown",
   "metadata": {},
   "source": [
    "### 过滤出薪资在6-27k之间"
   ]
  },
  {
   "cell_type": "code",
   "execution_count": 275,
   "metadata": {},
   "outputs": [],
   "source": [
    "jobs_copy = jobs_copy[jobs_copy['salary']<27]"
   ]
  },
  {
   "cell_type": "code",
   "execution_count": 276,
   "metadata": {},
   "outputs": [
    {
     "data": {
      "text/html": [
       "<div>\n",
       "<style scoped>\n",
       "    .dataframe tbody tr th:only-of-type {\n",
       "        vertical-align: middle;\n",
       "    }\n",
       "\n",
       "    .dataframe tbody tr th {\n",
       "        vertical-align: top;\n",
       "    }\n",
       "\n",
       "    .dataframe thead th {\n",
       "        text-align: right;\n",
       "    }\n",
       "</style>\n",
       "<table border=\"1\" class=\"dataframe\">\n",
       "  <thead>\n",
       "    <tr style=\"text-align: right;\">\n",
       "      <th></th>\n",
       "      <th>城市</th>\n",
       "      <th>职位名称</th>\n",
       "      <th>工作经验</th>\n",
       "      <th>公司规模</th>\n",
       "      <th>学历要求</th>\n",
       "      <th>salary</th>\n",
       "    </tr>\n",
       "  </thead>\n",
       "  <tbody>\n",
       "    <tr>\n",
       "      <th>0</th>\n",
       "      <td>北京</td>\n",
       "      <td>数据分析</td>\n",
       "      <td>经验不限</td>\n",
       "      <td>10000人以上</td>\n",
       "      <td>本科</td>\n",
       "      <td>8.0</td>\n",
       "    </tr>\n",
       "    <tr>\n",
       "      <th>2</th>\n",
       "      <td>北京</td>\n",
       "      <td>数据分析师</td>\n",
       "      <td>3-5年</td>\n",
       "      <td>1000-9999人</td>\n",
       "      <td>本科</td>\n",
       "      <td>20.0</td>\n",
       "    </tr>\n",
       "    <tr>\n",
       "      <th>3</th>\n",
       "      <td>北京</td>\n",
       "      <td>数据分析</td>\n",
       "      <td>经验不限</td>\n",
       "      <td>10000人以上</td>\n",
       "      <td>本科</td>\n",
       "      <td>9.0</td>\n",
       "    </tr>\n",
       "    <tr>\n",
       "      <th>4</th>\n",
       "      <td>北京</td>\n",
       "      <td>数据分析师</td>\n",
       "      <td>3-5年</td>\n",
       "      <td>10000人以上</td>\n",
       "      <td>本科</td>\n",
       "      <td>12.5</td>\n",
       "    </tr>\n",
       "    <tr>\n",
       "      <th>8</th>\n",
       "      <td>北京</td>\n",
       "      <td>数据分析师</td>\n",
       "      <td>1-3年</td>\n",
       "      <td>10000人以上</td>\n",
       "      <td>本科</td>\n",
       "      <td>25.5</td>\n",
       "    </tr>\n",
       "  </tbody>\n",
       "</table>\n",
       "</div>"
      ],
      "text/plain": [
       "   城市   职位名称  工作经验        公司规模 学历要求  salary\n",
       "0  北京   数据分析  经验不限    10000人以上   本科     8.0\n",
       "2  北京  数据分析师  3-5年  1000-9999人   本科    20.0\n",
       "3  北京   数据分析  经验不限    10000人以上   本科     9.0\n",
       "4  北京  数据分析师  3-5年    10000人以上   本科    12.5\n",
       "8  北京  数据分析师  1-3年    10000人以上   本科    25.5"
      ]
     },
     "execution_count": 276,
     "metadata": {},
     "output_type": "execute_result"
    }
   ],
   "source": [
    "jobs_copy = jobs_copy[jobs_copy['salary']>6]\n",
    "jobs_copy.head()"
   ]
  },
  {
   "cell_type": "code",
   "execution_count": 277,
   "metadata": {},
   "outputs": [
    {
     "data": {
      "text/plain": [
       "(27293, 6)"
      ]
     },
     "execution_count": 277,
     "metadata": {},
     "output_type": "execute_result"
    }
   ],
   "source": [
    "jobs_copy.shape"
   ]
  },
  {
   "cell_type": "code",
   "execution_count": 278,
   "metadata": {
    "scrolled": true
   },
   "outputs": [
    {
     "data": {
      "text/html": [
       "<div>\n",
       "<style scoped>\n",
       "    .dataframe tbody tr th:only-of-type {\n",
       "        vertical-align: middle;\n",
       "    }\n",
       "\n",
       "    .dataframe tbody tr th {\n",
       "        vertical-align: top;\n",
       "    }\n",
       "\n",
       "    .dataframe thead th {\n",
       "        text-align: right;\n",
       "    }\n",
       "</style>\n",
       "<table border=\"1\" class=\"dataframe\">\n",
       "  <thead>\n",
       "    <tr style=\"text-align: right;\">\n",
       "      <th></th>\n",
       "      <th>salary</th>\n",
       "    </tr>\n",
       "  </thead>\n",
       "  <tbody>\n",
       "    <tr>\n",
       "      <th>count</th>\n",
       "      <td>27293.000000</td>\n",
       "    </tr>\n",
       "    <tr>\n",
       "      <th>mean</th>\n",
       "      <td>10.915528</td>\n",
       "    </tr>\n",
       "    <tr>\n",
       "      <th>std</th>\n",
       "      <td>4.546630</td>\n",
       "    </tr>\n",
       "    <tr>\n",
       "      <th>min</th>\n",
       "      <td>6.500000</td>\n",
       "    </tr>\n",
       "    <tr>\n",
       "      <th>25%</th>\n",
       "      <td>7.500000</td>\n",
       "    </tr>\n",
       "    <tr>\n",
       "      <th>50%</th>\n",
       "      <td>9.000000</td>\n",
       "    </tr>\n",
       "    <tr>\n",
       "      <th>75%</th>\n",
       "      <td>12.500000</td>\n",
       "    </tr>\n",
       "    <tr>\n",
       "      <th>max</th>\n",
       "      <td>26.500000</td>\n",
       "    </tr>\n",
       "  </tbody>\n",
       "</table>\n",
       "</div>"
      ],
      "text/plain": [
       "             salary\n",
       "count  27293.000000\n",
       "mean      10.915528\n",
       "std        4.546630\n",
       "min        6.500000\n",
       "25%        7.500000\n",
       "50%        9.000000\n",
       "75%       12.500000\n",
       "max       26.500000"
      ]
     },
     "execution_count": 278,
     "metadata": {},
     "output_type": "execute_result"
    }
   ],
   "source": [
    "jobs_copy.describe()"
   ]
  },
  {
   "cell_type": "markdown",
   "metadata": {},
   "source": [
    "### 过滤后的薪资分布图"
   ]
  },
  {
   "cell_type": "code",
   "execution_count": 279,
   "metadata": {},
   "outputs": [
    {
     "data": {
      "image/png": "[encoded data removed]",
      "text/plain": [
       "<matplotlib.figure.Figure at 0x20c658d55f8>"
      ]
     },
     "metadata": {},
     "output_type": "display_data"
    }
   ],
   "source": [
    "%matplotlib inline\n",
    "import matplotlib.pyplot as plt\n",
    "jobs_copy.hist(bins=50, figsize=(8,5))\n",
    "plt.show()"
   ]
  },
  {
   "cell_type": "markdown",
   "metadata": {},
   "source": [
    "## 不相关职位筛选"
   ]
  },
  {
   "cell_type": "markdown",
   "metadata": {},
   "source": [
    "### 筛选出职位名称包含：商业|数据分析|挖掘|分析|BI|BA|数据"
   ]
  },
  {
   "cell_type": "code",
   "execution_count": 280,
   "metadata": {},
   "outputs": [
    {
     "data": {
      "text/plain": [
       "数据分析师    5114\n",
       "电商运营     1144\n",
       "数据分析     1049\n",
       "产品经理      881\n",
       "网络推广      609\n",
       "Name: 职位名称, dtype: int64"
      ]
     },
     "execution_count": 280,
     "metadata": {},
     "output_type": "execute_result"
    }
   ],
   "source": [
    "jobs_copy['职位名称'].value_counts().head()"
   ]
  },
  {
   "cell_type": "code",
   "execution_count": 281,
   "metadata": {
    "collapsed": true
   },
   "outputs": [],
   "source": [
    "da_test = jobs_copy.astype(str)\n",
    "\n",
    "temp_0 = da_test[\n",
    "    da_test['职位名称'].str.contains('商业|数据分析|挖掘|分析|BI|BA|数据')\n",
    "            ]\n",
    "\n",
    "#data_analysis = jobs_result['职位名称']\n",
    "temp = list(temp_0['职位名称']) # 将含有关键字的列表表示为test1\n",
    "jobs_data = da_test[da_test['职位名称'].isin(temp)]"
   ]
  },
  {
   "cell_type": "code",
   "execution_count": 282,
   "metadata": {},
   "outputs": [],
   "source": [
    "#jobs_data['职位名称'].value_counts()"
   ]
  },
  {
   "cell_type": "code",
   "execution_count": 283,
   "metadata": {},
   "outputs": [
    {
     "data": {
      "text/plain": [
       "(13716, 6)"
      ]
     },
     "execution_count": 283,
     "metadata": {},
     "output_type": "execute_result"
    }
   ],
   "source": [
    "jobs_data.shape"
   ]
  },
  {
   "cell_type": "code",
   "execution_count": 284,
   "metadata": {},
   "outputs": [
    {
     "data": {
      "text/html": [
       "<div>\n",
       "<style scoped>\n",
       "    .dataframe tbody tr th:only-of-type {\n",
       "        vertical-align: middle;\n",
       "    }\n",
       "\n",
       "    .dataframe tbody tr th {\n",
       "        vertical-align: top;\n",
       "    }\n",
       "\n",
       "    .dataframe thead th {\n",
       "        text-align: right;\n",
       "    }\n",
       "</style>\n",
       "<table border=\"1\" class=\"dataframe\">\n",
       "  <thead>\n",
       "    <tr style=\"text-align: right;\">\n",
       "      <th></th>\n",
       "      <th>城市</th>\n",
       "      <th>职位名称</th>\n",
       "      <th>工作经验</th>\n",
       "      <th>公司规模</th>\n",
       "      <th>学历要求</th>\n",
       "      <th>salary</th>\n",
       "    </tr>\n",
       "  </thead>\n",
       "  <tbody>\n",
       "    <tr>\n",
       "      <th>0</th>\n",
       "      <td>北京</td>\n",
       "      <td>数据分析</td>\n",
       "      <td>经验不限</td>\n",
       "      <td>10000人以上</td>\n",
       "      <td>本科</td>\n",
       "      <td>8.0</td>\n",
       "    </tr>\n",
       "    <tr>\n",
       "      <th>2</th>\n",
       "      <td>北京</td>\n",
       "      <td>数据分析师</td>\n",
       "      <td>3-5年</td>\n",
       "      <td>1000-9999人</td>\n",
       "      <td>本科</td>\n",
       "      <td>20.0</td>\n",
       "    </tr>\n",
       "    <tr>\n",
       "      <th>3</th>\n",
       "      <td>北京</td>\n",
       "      <td>数据分析</td>\n",
       "      <td>经验不限</td>\n",
       "      <td>10000人以上</td>\n",
       "      <td>本科</td>\n",
       "      <td>9.0</td>\n",
       "    </tr>\n",
       "    <tr>\n",
       "      <th>4</th>\n",
       "      <td>北京</td>\n",
       "      <td>数据分析师</td>\n",
       "      <td>3-5年</td>\n",
       "      <td>10000人以上</td>\n",
       "      <td>本科</td>\n",
       "      <td>12.5</td>\n",
       "    </tr>\n",
       "    <tr>\n",
       "      <th>8</th>\n",
       "      <td>北京</td>\n",
       "      <td>数据分析师</td>\n",
       "      <td>1-3年</td>\n",
       "      <td>10000人以上</td>\n",
       "      <td>本科</td>\n",
       "      <td>25.5</td>\n",
       "    </tr>\n",
       "  </tbody>\n",
       "</table>\n",
       "</div>"
      ],
      "text/plain": [
       "   城市   职位名称  工作经验        公司规模 学历要求 salary\n",
       "0  北京   数据分析  经验不限    10000人以上   本科    8.0\n",
       "2  北京  数据分析师  3-5年  1000-9999人   本科   20.0\n",
       "3  北京   数据分析  经验不限    10000人以上   本科    9.0\n",
       "4  北京  数据分析师  3-5年    10000人以上   本科   12.5\n",
       "8  北京  数据分析师  1-3年    10000人以上   本科   25.5"
      ]
     },
     "execution_count": 284,
     "metadata": {},
     "output_type": "execute_result"
    }
   ],
   "source": [
    "dt_test = jobs_data.astype(str)\n",
    "y = dt_test[\n",
    "    dt_test['职位名称'].str.contains('转行')\n",
    "           ]\n",
    "\n",
    "test1 = list(y['职位名称']) # 将含有关键字的列表表示为test1\n",
    "test2 = list(dt_test['职位名称']) # 将全部表示为test2\n",
    "ret = list(set(test2) ^ set(test1)) # 列表求差集的方法将含有关键字的行除去\n",
    "\n",
    "jobs_data = dt_test[dt_test['职位名称'].isin(ret)]\n",
    "jobs_data.head()"
   ]
  },
  {
   "cell_type": "code",
   "execution_count": 285,
   "metadata": {},
   "outputs": [
    {
     "name": "stdout",
     "output_type": "stream",
     "text": [
      "<class 'pandas.core.frame.DataFrame'>\n",
      "Int64Index: 13665 entries, 0 to 65053\n",
      "Data columns (total 6 columns):\n",
      "城市        13665 non-null object\n",
      "职位名称      13665 non-null object\n",
      "工作经验      13665 non-null object\n",
      "公司规模      13665 non-null object\n",
      "学历要求      13665 non-null object\n",
      "salary    13665 non-null float64\n",
      "dtypes: float64(1), object(5)\n",
      "memory usage: 747.3+ KB\n"
     ]
    }
   ],
   "source": [
    "jobs_data_copy = jobs_data.copy()\n",
    "jobs_data_copy['salary'] = pd.to_numeric(jobs_data_copy['salary'])\n",
    "jobs_data_copy.info()"
   ]
  },
  {
   "cell_type": "code",
   "execution_count": 286,
   "metadata": {},
   "outputs": [
    {
     "data": {
      "image/png": "[encoded data removed]",
      "text/plain": [
       "<matplotlib.figure.Figure at 0x20c65cedc88>"
      ]
     },
     "metadata": {},
     "output_type": "display_data"
    }
   ],
   "source": [
    "%matplotlib inline\n",
    "import matplotlib.pyplot as plt\n",
    "jobs_data_copy.hist(bins=50, figsize=(8,5))\n",
    "# save_fig(\"attribute_histogram_plots\")\n",
    "plt.show()"
   ]
  },
  {
   "cell_type": "markdown",
   "metadata": {},
   "source": [
    "## 筛选岗位数量前150的城市"
   ]
  },
  {
   "cell_type": "code",
   "execution_count": 287,
   "metadata": {},
   "outputs": [],
   "source": [
    "cities = jobs_data_copy['城市'].value_counts()[:150].index"
   ]
  },
  {
   "cell_type": "code",
   "execution_count": 288,
   "metadata": {},
   "outputs": [],
   "source": [
    "temp_list = []\n",
    "for item in jobs_data_copy['城市'].values:\n",
    "    temp_list.append(item in cities)"
   ]
  },
  {
   "cell_type": "code",
   "execution_count": 289,
   "metadata": {},
   "outputs": [],
   "source": [
    "#temp_list"
   ]
  },
  {
   "cell_type": "code",
   "execution_count": 290,
   "metadata": {},
   "outputs": [],
   "source": [
    "#temp_list\n",
    "jobs_data_copy = jobs_data_copy[temp_list]"
   ]
  },
  {
   "cell_type": "code",
   "execution_count": 291,
   "metadata": {},
   "outputs": [
    {
     "data": {
      "text/html": [
       "<div>\n",
       "<style scoped>\n",
       "    .dataframe tbody tr th:only-of-type {\n",
       "        vertical-align: middle;\n",
       "    }\n",
       "\n",
       "    .dataframe tbody tr th {\n",
       "        vertical-align: top;\n",
       "    }\n",
       "\n",
       "    .dataframe thead th {\n",
       "        text-align: right;\n",
       "    }\n",
       "</style>\n",
       "<table border=\"1\" class=\"dataframe\">\n",
       "  <thead>\n",
       "    <tr style=\"text-align: right;\">\n",
       "      <th></th>\n",
       "      <th>城市</th>\n",
       "      <th>职位名称</th>\n",
       "      <th>工作经验</th>\n",
       "      <th>公司规模</th>\n",
       "      <th>学历要求</th>\n",
       "      <th>salary</th>\n",
       "    </tr>\n",
       "  </thead>\n",
       "  <tbody>\n",
       "    <tr>\n",
       "      <th>0</th>\n",
       "      <td>北京</td>\n",
       "      <td>数据分析</td>\n",
       "      <td>经验不限</td>\n",
       "      <td>10000人以上</td>\n",
       "      <td>本科</td>\n",
       "      <td>8.0</td>\n",
       "    </tr>\n",
       "    <tr>\n",
       "      <th>2</th>\n",
       "      <td>北京</td>\n",
       "      <td>数据分析师</td>\n",
       "      <td>3-5年</td>\n",
       "      <td>1000-9999人</td>\n",
       "      <td>本科</td>\n",
       "      <td>20.0</td>\n",
       "    </tr>\n",
       "    <tr>\n",
       "      <th>3</th>\n",
       "      <td>北京</td>\n",
       "      <td>数据分析</td>\n",
       "      <td>经验不限</td>\n",
       "      <td>10000人以上</td>\n",
       "      <td>本科</td>\n",
       "      <td>9.0</td>\n",
       "    </tr>\n",
       "    <tr>\n",
       "      <th>4</th>\n",
       "      <td>北京</td>\n",
       "      <td>数据分析师</td>\n",
       "      <td>3-5年</td>\n",
       "      <td>10000人以上</td>\n",
       "      <td>本科</td>\n",
       "      <td>12.5</td>\n",
       "    </tr>\n",
       "    <tr>\n",
       "      <th>8</th>\n",
       "      <td>北京</td>\n",
       "      <td>数据分析师</td>\n",
       "      <td>1-3年</td>\n",
       "      <td>10000人以上</td>\n",
       "      <td>本科</td>\n",
       "      <td>25.5</td>\n",
       "    </tr>\n",
       "  </tbody>\n",
       "</table>\n",
       "</div>"
      ],
      "text/plain": [
       "   城市   职位名称  工作经验        公司规模 学历要求  salary\n",
       "0  北京   数据分析  经验不限    10000人以上   本科     8.0\n",
       "2  北京  数据分析师  3-5年  1000-9999人   本科    20.0\n",
       "3  北京   数据分析  经验不限    10000人以上   本科     9.0\n",
       "4  北京  数据分析师  3-5年    10000人以上   本科    12.5\n",
       "8  北京  数据分析师  1-3年    10000人以上   本科    25.5"
      ]
     },
     "execution_count": 291,
     "metadata": {},
     "output_type": "execute_result"
    }
   ],
   "source": [
    "jobs_data_copy.head()"
   ]
  },
  {
   "cell_type": "code",
   "execution_count": 292,
   "metadata": {},
   "outputs": [],
   "source": [
    "#jobs_data_copy['城市'].value_counts()"
   ]
  },
  {
   "cell_type": "markdown",
   "metadata": {},
   "source": [
    "## 相同属性合并"
   ]
  },
  {
   "cell_type": "code",
   "execution_count": 293,
   "metadata": {},
   "outputs": [],
   "source": [
    "experience_shift = {\n",
    "    '1-3年': '1-3年',\n",
    "    '3-5年': '3-5年',\n",
    "    '5-10年': '5-10年',\n",
    "    '应届生':'1年以内',\n",
    "    '1年以下':'1年以内',\n",
    "    '1年以内': '1年以内',\n",
    "    '无经验': '1年以内',\n",
    "    '经验不限': '经验不限',\n",
    "    '不限': '经验不限'\n",
    "}\n",
    "\n",
    "scale_shift = {\n",
    "    '100-499人':'100-499人',\n",
    "    '0-20人':'0-20人',\n",
    "    '20人以下':'0-20人',\n",
    "    '20-99人':'20-99人',\n",
    "    '100-499人':'100-499人',\n",
    "    '500-999人':'500-999人',\n",
    "    '1000-9999人':'1000-9999人',\n",
    "    '10000人以上':'10000人以上',\n",
    "    '':'100-499人'\n",
    "}\n",
    "\n",
    "degree_shift = {\n",
    "    '中专/中技': '中专',\n",
    "    '中技': '中专',\n",
    "    '中专': '中专',\n",
    "    '高中': '高中',\n",
    "    '大专': '大专',\n",
    "    '本科': '本科',\n",
    "    '硕士': '硕士',\n",
    "    '博士': '博士',\n",
    "    '不限': '学历不限',\n",
    "    '学历不限': '学历不限'\n",
    "}"
   ]
  },
  {
   "cell_type": "code",
   "execution_count": 294,
   "metadata": {},
   "outputs": [],
   "source": [
    "jobs_data_copy['工作经验'] = jobs_data_copy['工作经验'].map(experience_shift)\n",
    "jobs_data_copy['公司规模'] = jobs_data_copy['公司规模'].map(scale_shift)\n",
    "jobs_data_copy['学历要求'] = jobs_data_copy['学历要求'].map(degree_shift)"
   ]
  },
  {
   "cell_type": "code",
   "execution_count": 295,
   "metadata": {},
   "outputs": [
    {
     "data": {
      "text/plain": [
       "1-3年     5219\n",
       "3-5年     4271\n",
       "经验不限     1309\n",
       "5-10年     825\n",
       "1年以内      825\n",
       "Name: 工作经验, dtype: int64"
      ]
     },
     "execution_count": 295,
     "metadata": {},
     "output_type": "execute_result"
    }
   ],
   "source": [
    "jobs_data_copy['工作经验'].value_counts()"
   ]
  },
  {
   "cell_type": "code",
   "execution_count": 296,
   "metadata": {},
   "outputs": [
    {
     "data": {
      "text/plain": [
       "100-499人      3843\n",
       "20-99人        2848\n",
       "1000-9999人    2503\n",
       "10000人以上      1648\n",
       "500-999人      1292\n",
       "0-20人          315\n",
       "Name: 公司规模, dtype: int64"
      ]
     },
     "execution_count": 296,
     "metadata": {},
     "output_type": "execute_result"
    }
   ],
   "source": [
    "jobs_data_copy['公司规模'].value_counts()"
   ]
  },
  {
   "cell_type": "code",
   "execution_count": 297,
   "metadata": {},
   "outputs": [
    {
     "data": {
      "text/plain": [
       "本科      8941\n",
       "大专      2479\n",
       "硕士       564\n",
       "学历不限     420\n",
       "中专        21\n",
       "博士        13\n",
       "高中        11\n",
       "Name: 学历要求, dtype: int64"
      ]
     },
     "execution_count": 297,
     "metadata": {},
     "output_type": "execute_result"
    }
   ],
   "source": [
    "jobs_data_copy['学历要求'].value_counts()"
   ]
  },
  {
   "cell_type": "markdown",
   "metadata": {},
   "source": [
    "# 划分训练集与测试集"
   ]
  },
  {
   "cell_type": "code",
   "execution_count": 298,
   "metadata": {
    "collapsed": true
   },
   "outputs": [],
   "source": [
    "from sklearn.model_selection import train_test_split\n",
    "\n",
    "train_set, test_set = train_test_split(jobs_data_copy, test_size=0.2, random_state=42)"
   ]
  },
  {
   "cell_type": "code",
   "execution_count": 299,
   "metadata": {
    "collapsed": true
   },
   "outputs": [],
   "source": [
    "datas_train = train_set.copy()\n",
    "datas_test = test_set.copy()"
   ]
  },
  {
   "cell_type": "code",
   "execution_count": 300,
   "metadata": {},
   "outputs": [
    {
     "data": {
      "text/html": [
       "<div>\n",
       "<style scoped>\n",
       "    .dataframe tbody tr th:only-of-type {\n",
       "        vertical-align: middle;\n",
       "    }\n",
       "\n",
       "    .dataframe tbody tr th {\n",
       "        vertical-align: top;\n",
       "    }\n",
       "\n",
       "    .dataframe thead th {\n",
       "        text-align: right;\n",
       "    }\n",
       "</style>\n",
       "<table border=\"1\" class=\"dataframe\">\n",
       "  <thead>\n",
       "    <tr style=\"text-align: right;\">\n",
       "      <th></th>\n",
       "      <th>城市</th>\n",
       "      <th>职位名称</th>\n",
       "      <th>工作经验</th>\n",
       "      <th>公司规模</th>\n",
       "      <th>学历要求</th>\n",
       "      <th>salary</th>\n",
       "    </tr>\n",
       "  </thead>\n",
       "  <tbody>\n",
       "    <tr>\n",
       "      <th>21110</th>\n",
       "      <td>南阳</td>\n",
       "      <td>数据分析</td>\n",
       "      <td>1-3年</td>\n",
       "      <td>20-99人</td>\n",
       "      <td>本科</td>\n",
       "      <td>6.5</td>\n",
       "    </tr>\n",
       "    <tr>\n",
       "      <th>56033</th>\n",
       "      <td>云浮</td>\n",
       "      <td>化妆品数据分析员</td>\n",
       "      <td>1-3年</td>\n",
       "      <td>100-499人</td>\n",
       "      <td>本科</td>\n",
       "      <td>8.5</td>\n",
       "    </tr>\n",
       "    <tr>\n",
       "      <th>37705</th>\n",
       "      <td>泉州</td>\n",
       "      <td>数据分析专员</td>\n",
       "      <td>1-3年</td>\n",
       "      <td>100-499人</td>\n",
       "      <td>本科</td>\n",
       "      <td>6.5</td>\n",
       "    </tr>\n",
       "    <tr>\n",
       "      <th>24622</th>\n",
       "      <td>淮安</td>\n",
       "      <td>数据分析</td>\n",
       "      <td>1-3年</td>\n",
       "      <td>1000-9999人</td>\n",
       "      <td>大专</td>\n",
       "      <td>6.5</td>\n",
       "    </tr>\n",
       "    <tr>\n",
       "      <th>37106</th>\n",
       "      <td>宁德</td>\n",
       "      <td>数据分析师（福州）</td>\n",
       "      <td>1-3年</td>\n",
       "      <td>100-499人</td>\n",
       "      <td>本科</td>\n",
       "      <td>11.5</td>\n",
       "    </tr>\n",
       "  </tbody>\n",
       "</table>\n",
       "</div>"
      ],
      "text/plain": [
       "       城市       职位名称  工作经验        公司规模 学历要求  salary\n",
       "21110  南阳       数据分析  1-3年      20-99人   本科     6.5\n",
       "56033  云浮   化妆品数据分析员  1-3年    100-499人   本科     8.5\n",
       "37705  泉州     数据分析专员  1-3年    100-499人   本科     6.5\n",
       "24622  淮安       数据分析  1-3年  1000-9999人   大专     6.5\n",
       "37106  宁德  数据分析师（福州）  1-3年    100-499人   本科    11.5"
      ]
     },
     "execution_count": 300,
     "metadata": {},
     "output_type": "execute_result"
    }
   ],
   "source": [
    "datas_train.head()"
   ]
  },
  {
   "cell_type": "markdown",
   "metadata": {},
   "source": [
    "## 为 标签/类别 属性编码"
   ]
  },
  {
   "cell_type": "markdown",
   "metadata": {},
   "source": [
    "### 标签/类别 训练集/测试集划分"
   ]
  },
  {
   "cell_type": "code",
   "execution_count": 301,
   "metadata": {},
   "outputs": [
    {
     "data": {
      "text/html": [
       "<div>\n",
       "<style scoped>\n",
       "    .dataframe tbody tr th:only-of-type {\n",
       "        vertical-align: middle;\n",
       "    }\n",
       "\n",
       "    .dataframe tbody tr th {\n",
       "        vertical-align: top;\n",
       "    }\n",
       "\n",
       "    .dataframe thead th {\n",
       "        text-align: right;\n",
       "    }\n",
       "</style>\n",
       "<table border=\"1\" class=\"dataframe\">\n",
       "  <thead>\n",
       "    <tr style=\"text-align: right;\">\n",
       "      <th></th>\n",
       "      <th>城市</th>\n",
       "      <th>公司规模</th>\n",
       "      <th>学历要求</th>\n",
       "      <th>工作经验</th>\n",
       "    </tr>\n",
       "  </thead>\n",
       "  <tbody>\n",
       "    <tr>\n",
       "      <th>21110</th>\n",
       "      <td>南阳</td>\n",
       "      <td>20-99人</td>\n",
       "      <td>本科</td>\n",
       "      <td>1-3年</td>\n",
       "    </tr>\n",
       "    <tr>\n",
       "      <th>56033</th>\n",
       "      <td>云浮</td>\n",
       "      <td>100-499人</td>\n",
       "      <td>本科</td>\n",
       "      <td>1-3年</td>\n",
       "    </tr>\n",
       "    <tr>\n",
       "      <th>37705</th>\n",
       "      <td>泉州</td>\n",
       "      <td>100-499人</td>\n",
       "      <td>本科</td>\n",
       "      <td>1-3年</td>\n",
       "    </tr>\n",
       "    <tr>\n",
       "      <th>24622</th>\n",
       "      <td>淮安</td>\n",
       "      <td>1000-9999人</td>\n",
       "      <td>大专</td>\n",
       "      <td>1-3年</td>\n",
       "    </tr>\n",
       "    <tr>\n",
       "      <th>37106</th>\n",
       "      <td>宁德</td>\n",
       "      <td>100-499人</td>\n",
       "      <td>本科</td>\n",
       "      <td>1-3年</td>\n",
       "    </tr>\n",
       "  </tbody>\n",
       "</table>\n",
       "</div>"
      ],
      "text/plain": [
       "       城市        公司规模 学历要求  工作经验\n",
       "21110  南阳      20-99人   本科  1-3年\n",
       "56033  云浮    100-499人   本科  1-3年\n",
       "37705  泉州    100-499人   本科  1-3年\n",
       "24622  淮安  1000-9999人   大专  1-3年\n",
       "37106  宁德    100-499人   本科  1-3年"
      ]
     },
     "execution_count": 301,
     "metadata": {},
     "output_type": "execute_result"
    }
   ],
   "source": [
    "cata_train = datas_train[['城市','公司规模','学历要求','工作经验']] # 训练集\n",
    "cata_test = datas_test[['城市','公司规模','学历要求','工作经验']] # 测试集\n",
    "cata_train.head()"
   ]
  },
  {
   "cell_type": "code",
   "execution_count": 302,
   "metadata": {
    "collapsed": true
   },
   "outputs": [],
   "source": [
    "from sklearn.preprocessing import OneHotEncoder\n",
    "\n",
    "cat_encoder = OneHotEncoder(sparse=False)"
   ]
  },
  {
   "cell_type": "code",
   "execution_count": 303,
   "metadata": {
    "collapsed": true
   },
   "outputs": [],
   "source": [
    "job_cata_train = cat_encoder.fit_transform(cata_train)\n",
    "job_cata_test = cat_encoder.fit_transform(cata_test)"
   ]
  },
  {
   "cell_type": "code",
   "execution_count": 304,
   "metadata": {},
   "outputs": [
    {
     "data": {
      "text/plain": [
       "[array(['三明', '上海', '东沙群岛', '东莞', '东营', '中山', '临沂', '丽水', '乐山', '云浮', '亳州',\n",
       "        '仙桃', '佛山', '六安', '内江', '凉山', '北京', '十堰', '南京', '南充', '南平', '南通',\n",
       "        '南阳', '厦门', '台州', '合肥', '周口', '咸宁', '咸阳', '商丘', '商洛', '嘉兴', '大连',\n",
       "        '天津', '天门', '威海', '娄底', '孝感', '宁德', '安庆', '安康', '安阳', '宜宾', '宜昌',\n",
       "        '宣城', '宿州', '宿迁', '岳阳', '巴中', '常州', '常德', '平顶山', '广元', '广安', '广州',\n",
       "        '开封', '张家界', '徐州', '德阳', '怀化', '恩施', '惠州', '成都', '扬州', '揭阳', '攀枝花',\n",
       "        '新乡', '日照', '杭州', '枣庄', '株洲', '梅州', '武汉', '永州', '汕头', '汕尾', '江门',\n",
       "        '池州', '河源', '泉州', '泰安', '泰州', '泸州', '洛阳', '济南', '济宁', '淄博', '淮北',\n",
       "        '淮安', '深圳', '清远', '温州', '湖州', '湘潭', '湘西', '湛江', '滨州', '漯河', '漳州',\n",
       "        '潍坊', '潜江', '潮州', '烟台', '珠海', '甘孜', '益阳', '盐城', '眉山', '神农架', '福州',\n",
       "        '绍兴', '绵阳', '聊城', '肇庆', '自贡', '舟山', '芜湖', '苏州', '茂名', '荆州', '荆门',\n",
       "        '莆田', '莱芜', '菏泽', '衡阳', '衢州', '襄阳', '西安', '资阳', '达州', '连云港', '遂宁',\n",
       "        '邵阳', '郑州', '郴州', '鄂州', '金华', '铜川', '镇江', '长沙', '阜阳', '阳江', '阿坝',\n",
       "        '随州', '雅安', '韶关', '黄冈', '黄山', '黄石', '龙岩'], dtype=object),\n",
       " array(['0-20人', '100-499人', '1000-9999人', '10000人以上', '20-99人',\n",
       "        '500-999人'], dtype=object),\n",
       " array(['中专', '博士', '大专', '学历不限', '本科', '硕士', '高中'], dtype=object),\n",
       " array(['1-3年', '1年以内', '3-5年', '5-10年', '经验不限'], dtype=object)]"
      ]
     },
     "execution_count": 304,
     "metadata": {},
     "output_type": "execute_result"
    }
   ],
   "source": [
    "cat_encoder.categories_"
   ]
  },
  {
   "cell_type": "markdown",
   "metadata": {},
   "source": [
    "### 参数构造函数"
   ]
  },
  {
   "cell_type": "code",
   "execution_count": 378,
   "metadata": {},
   "outputs": [
    {
     "data": {
      "text/plain": [
       "array(['三明', '上海', '东沙群岛', '东莞', '东营', '中山', '临沂', '丽水', '乐山', '云浮', '亳州',\n",
       "       '仙桃', '佛山', '六安', '内江', '凉山', '北京', '十堰', '南京', '南充', '南平', '南通',\n",
       "       '南阳', '厦门', '台州', '合肥', '周口', '咸宁', '咸阳', '商丘', '商洛', '嘉兴', '大连',\n",
       "       '天津', '天门', '威海', '娄底', '孝感', '宁德', '安庆', '安康', '安阳', '宜宾', '宜昌',\n",
       "       '宣城', '宿州', '宿迁', '岳阳', '巴中', '常州', '常德', '平顶山', '广元', '广安', '广州',\n",
       "       '开封', '张家界', '徐州', '德阳', '怀化', '恩施', '惠州', '成都', '扬州', '揭阳', '攀枝花',\n",
       "       '新乡', '日照', '杭州', '枣庄', '株洲', '梅州', '武汉', '永州', '汕头', '汕尾', '江门',\n",
       "       '池州', '河源', '泉州', '泰安', '泰州', '泸州', '洛阳', '济南', '济宁', '淄博', '淮北',\n",
       "       '淮安', '深圳', '清远', '温州', '湖州', '湘潭', '湘西', '湛江', '滨州', '漯河', '漳州',\n",
       "       '潍坊', '潜江', '潮州', '烟台', '珠海', '甘孜', '益阳', '盐城', '眉山', '神农架', '福州',\n",
       "       '绍兴', '绵阳', '聊城', '肇庆', '自贡', '舟山', '芜湖', '苏州', '茂名', '荆州', '荆门',\n",
       "       '莆田', '莱芜', '菏泽', '衡阳', '衢州', '襄阳', '西安', '资阳', '达州', '连云港', '遂宁',\n",
       "       '邵阳', '郑州', '郴州', '鄂州', '金华', '铜川', '镇江', '长沙', '阜阳', '阳江', '阿坝',\n",
       "       '随州', '雅安', '韶关', '黄冈', '黄山', '黄石', '龙岩'], dtype=object)"
      ]
     },
     "execution_count": 378,
     "metadata": {},
     "output_type": "execute_result"
    }
   ],
   "source": [
    "cat_encoder.categories_[0] "
   ]
  },
  {
   "cell_type": "code",
   "execution_count": 444,
   "metadata": {},
   "outputs": [],
   "source": [
    "import numpy as np\n",
    "\n",
    "def func_params(templist):\n",
    "    temp = []\n",
    "    city,scale,degree,exp = templist\n",
    "    citypara = cat_encoder.categories_[0] == '{city}'.format(city=city)\n",
    "    scalepara = cat_encoder.categories_[1] == '{scale}'.format(scale=scale)\n",
    "    degreepara = cat_encoder.categories_[2] == '{degree}'.format(degree=degree)\n",
    "    exppara = cat_encoder.categories_[3] == '{exp}'.format(exp=exp)\n",
    "    # citypara\n",
    "    for item in citypara:\n",
    "        #print(item)\n",
    "        if item == False:\n",
    "            item = float(0)\n",
    "            temp.append(item)\n",
    "        else:\n",
    "            item = float(1)\n",
    "            temp.append(item)\n",
    "    for item in scalepara:\n",
    "        if item == False:\n",
    "            item = float(0)\n",
    "            temp.append(item)\n",
    "        else:\n",
    "            item = float(1)\n",
    "            temp.append(item)\n",
    "    for item in scalepara:\n",
    "        if item == False:\n",
    "            item = float(0)\n",
    "            temp.append(item)\n",
    "        else:\n",
    "            item = float(1)\n",
    "            temp.append(item)\n",
    "    for item in scalepara:\n",
    "        if item == False:\n",
    "            item = float(0)\n",
    "            temp.append(item)\n",
    "        else:\n",
    "            item = float(1)\n",
    "            temp.append(item)\n",
    "    temp = np.array(temp, dtype = float).reshape(1, -1)\n",
    "    return temp"
   ]
  },
  {
   "cell_type": "code",
   "execution_count": 445,
   "metadata": {},
   "outputs": [],
   "source": [
    "paramlist = func_params(['上海','1000-9999人','硕士','1-3年'])\n",
    "#paramlist"
   ]
  },
  {
   "cell_type": "code",
   "execution_count": 372,
   "metadata": {},
   "outputs": [
    {
     "data": {
      "text/plain": [
       "array(['0-20人', '100-499人', '1000-9999人', '10000人以上', '20-99人',\n",
       "       '500-999人'], dtype=object)"
      ]
     },
     "execution_count": 372,
     "metadata": {},
     "output_type": "execute_result"
    }
   ],
   "source": [
    "cat_encoder.categories_[1]"
   ]
  },
  {
   "cell_type": "code",
   "execution_count": 432,
   "metadata": {},
   "outputs": [],
   "source": [
    "#cat_encoder.categories_[3]"
   ]
  },
  {
   "cell_type": "markdown",
   "metadata": {},
   "source": [
    "# 用于机器学习的数据"
   ]
  },
  {
   "cell_type": "markdown",
   "metadata": {},
   "source": [
    "## x_train,y_train"
   ]
  },
  {
   "cell_type": "code",
   "execution_count": 305,
   "metadata": {},
   "outputs": [],
   "source": [
    "# 训练集\n",
    "x_train = job_cata_train\n",
    "y_train = datas_train['salary'].values.reshape(-1, 1)\n",
    "#y_train"
   ]
  },
  {
   "cell_type": "code",
   "execution_count": 439,
   "metadata": {},
   "outputs": [],
   "source": [
    "#x_train[0]"
   ]
  },
  {
   "cell_type": "code",
   "execution_count": 306,
   "metadata": {},
   "outputs": [
    {
     "data": {
      "text/plain": [
       "(9959, 168)"
      ]
     },
     "execution_count": 306,
     "metadata": {},
     "output_type": "execute_result"
    }
   ],
   "source": [
    "x_train.shape"
   ]
  },
  {
   "cell_type": "code",
   "execution_count": 307,
   "metadata": {},
   "outputs": [
    {
     "data": {
      "text/plain": [
       "(9959, 1)"
      ]
     },
     "execution_count": 307,
     "metadata": {},
     "output_type": "execute_result"
    }
   ],
   "source": [
    "y_train.shape"
   ]
  },
  {
   "cell_type": "markdown",
   "metadata": {},
   "source": [
    "## x_test,y_test"
   ]
  },
  {
   "cell_type": "code",
   "execution_count": 308,
   "metadata": {
    "collapsed": true
   },
   "outputs": [],
   "source": [
    "# 测试集\n",
    "x_test = job_cata_test\n",
    "y_test = datas_test['salary'].values.reshape(-1, 1)"
   ]
  },
  {
   "cell_type": "code",
   "execution_count": 309,
   "metadata": {},
   "outputs": [
    {
     "data": {
      "text/plain": [
       "(2490, 168)"
      ]
     },
     "execution_count": 309,
     "metadata": {},
     "output_type": "execute_result"
    }
   ],
   "source": [
    "x_test.shape"
   ]
  },
  {
   "cell_type": "code",
   "execution_count": 310,
   "metadata": {},
   "outputs": [
    {
     "data": {
      "text/plain": [
       "(2490, 1)"
      ]
     },
     "execution_count": 310,
     "metadata": {},
     "output_type": "execute_result"
    }
   ],
   "source": [
    "y_test.shape"
   ]
  },
  {
   "cell_type": "markdown",
   "metadata": {},
   "source": [
    "# 机器学习建模"
   ]
  },
  {
   "cell_type": "markdown",
   "metadata": {},
   "source": [
    "## 决策树"
   ]
  },
  {
   "cell_type": "code",
   "execution_count": 311,
   "metadata": {
    "scrolled": true
   },
   "outputs": [
    {
     "data": {
      "text/plain": [
       "DecisionTreeRegressor(criterion='mse', max_depth=None, max_features=None,\n",
       "           max_leaf_nodes=None, min_impurity_decrease=0.0,\n",
       "           min_impurity_split=None, min_samples_leaf=1,\n",
       "           min_samples_split=2, min_weight_fraction_leaf=0.0,\n",
       "           presort=False, random_state=42, splitter='best')"
      ]
     },
     "execution_count": 311,
     "metadata": {},
     "output_type": "execute_result"
    }
   ],
   "source": [
    "from sklearn.tree import DecisionTreeRegressor\n",
    "\n",
    "tree_reg = DecisionTreeRegressor(random_state=42)\n",
    "tree_reg.fit(x_train, y_train)"
   ]
  },
  {
   "cell_type": "markdown",
   "metadata": {},
   "source": [
    "### 检验"
   ]
  },
  {
   "cell_type": "markdown",
   "metadata": {},
   "source": [
    "#### 训练集检验"
   ]
  },
  {
   "cell_type": "code",
   "execution_count": 312,
   "metadata": {
    "scrolled": true
   },
   "outputs": [
    {
     "data": {
      "text/plain": [
       "array([[ 7.66666667],\n",
       "       [11.33333333],\n",
       "       [10.        ],\n",
       "       [ 6.5       ],\n",
       "       [ 9.875     ],\n",
       "       [20.        ],\n",
       "       [15.8125    ],\n",
       "       [ 8.38461538],\n",
       "       [ 7.8       ],\n",
       "       [10.25      ]])"
      ]
     },
     "execution_count": 312,
     "metadata": {},
     "output_type": "execute_result"
    }
   ],
   "source": [
    "y_pred_tree = tree_reg.predict(x_train)\n",
    "y_pred_tree[:10].reshape(10, 1)"
   ]
  },
  {
   "cell_type": "code",
   "execution_count": 354,
   "metadata": {},
   "outputs": [],
   "source": [
    "#datas_train.head(10)"
   ]
  },
  {
   "cell_type": "code",
   "execution_count": 314,
   "metadata": {
    "scrolled": true
   },
   "outputs": [
    {
     "data": {
      "text/plain": [
       "array([[ 6.5],\n",
       "       [ 8.5],\n",
       "       [ 6.5],\n",
       "       [ 6.5],\n",
       "       [11.5],\n",
       "       [20. ],\n",
       "       [16.5],\n",
       "       [ 7. ],\n",
       "       [ 6.5],\n",
       "       [ 8. ]])"
      ]
     },
     "execution_count": 314,
     "metadata": {},
     "output_type": "execute_result"
    }
   ],
   "source": [
    "y_train[:10]"
   ]
  },
  {
   "cell_type": "code",
   "execution_count": 315,
   "metadata": {},
   "outputs": [
    {
     "data": {
      "text/plain": [
       "3.0382473722545784"
      ]
     },
     "execution_count": 315,
     "metadata": {},
     "output_type": "execute_result"
    }
   ],
   "source": [
    "from sklearn.metrics import mean_squared_error\n",
    "import numpy as np\n",
    "\n",
    "tree_mse = mean_squared_error(y_train, y_pred_tree)\n",
    "tree_rmse = np.sqrt(tree_mse)\n",
    "tree_rmse"
   ]
  },
  {
   "cell_type": "markdown",
   "metadata": {},
   "source": [
    "训练集预测误差：3.0382473722545784"
   ]
  },
  {
   "cell_type": "markdown",
   "metadata": {},
   "source": [
    "#### 测试集检验"
   ]
  },
  {
   "cell_type": "code",
   "execution_count": 316,
   "metadata": {},
   "outputs": [
    {
     "data": {
      "text/plain": [
       "4.782476424480568"
      ]
     },
     "execution_count": 316,
     "metadata": {},
     "output_type": "execute_result"
    }
   ],
   "source": [
    "from sklearn.metrics import mean_squared_error\n",
    "import numpy as np\n",
    "\n",
    "y_pred_tree_test = tree_reg.predict(x_test)\n",
    "\n",
    "tree_mse = mean_squared_error(y_test, y_pred_tree_test)\n",
    "tree_rmse = np.sqrt(tree_mse)\n",
    "tree_rmse"
   ]
  },
  {
   "cell_type": "markdown",
   "metadata": {},
   "source": [
    "测试集误差：4.782476424480568"
   ]
  },
  {
   "cell_type": "markdown",
   "metadata": {},
   "source": [
    "### 交叉验证"
   ]
  },
  {
   "cell_type": "code",
   "execution_count": 317,
   "metadata": {
    "collapsed": true
   },
   "outputs": [],
   "source": [
    "from sklearn.model_selection import cross_val_score\n",
    "\n",
    "scores = cross_val_score(tree_reg, x_train, y_train,\n",
    "                         scoring=\"neg_mean_squared_error\", cv=10)\n",
    "tree_rmse_scores = np.sqrt(-scores)"
   ]
  },
  {
   "cell_type": "code",
   "execution_count": 318,
   "metadata": {},
   "outputs": [
    {
     "name": "stdout",
     "output_type": "stream",
     "text": [
      "Scores: [4.62433783 4.74066502 4.8478161  4.60423202 4.78729759 4.55902835\n",
      " 4.47123285 4.46471566 4.62152351 4.81591793]\n",
      "Mean: 4.653676687092153\n",
      "Standard deviation: 0.1310433320106498\n"
     ]
    }
   ],
   "source": [
    "def display_scores(scores):\n",
    "    print(\"Scores:\", scores)\n",
    "    print(\"Mean:\", scores.mean())\n",
    "    print(\"Standard deviation:\", scores.std())\n",
    "\n",
    "display_scores(tree_rmse_scores)"
   ]
  },
  {
   "cell_type": "markdown",
   "metadata": {},
   "source": [
    "## 随机森林"
   ]
  },
  {
   "cell_type": "code",
   "execution_count": 319,
   "metadata": {},
   "outputs": [
    {
     "name": "stderr",
     "output_type": "stream",
     "text": [
      "C:\\Users\\13626\\Anaconda3\\lib\\site-packages\\sklearn\\ensemble\\forest.py:248: FutureWarning: The default value of n_estimators will change from 10 in version 0.20 to 100 in 0.22.\n",
      "  \"10 in version 0.20 to 100 in 0.22.\", FutureWarning)\n",
      "C:\\Users\\13626\\Anaconda3\\lib\\site-packages\\ipykernel_launcher.py:4: DataConversionWarning: A column-vector y was passed when a 1d array was expected. Please change the shape of y to (n_samples,), for example using ravel().\n",
      "  after removing the cwd from sys.path.\n"
     ]
    },
    {
     "data": {
      "text/plain": [
       "RandomForestRegressor(bootstrap=True, criterion='mse', max_depth=None,\n",
       "           max_features='auto', max_leaf_nodes=None,\n",
       "           min_impurity_decrease=0.0, min_impurity_split=None,\n",
       "           min_samples_leaf=1, min_samples_split=2,\n",
       "           min_weight_fraction_leaf=0.0, n_estimators=10, n_jobs=None,\n",
       "           oob_score=False, random_state=42, verbose=0, warm_start=False)"
      ]
     },
     "execution_count": 319,
     "metadata": {},
     "output_type": "execute_result"
    }
   ],
   "source": [
    "from sklearn.ensemble import RandomForestRegressor\n",
    "\n",
    "forest_reg = RandomForestRegressor(random_state=42)\n",
    "forest_reg.fit(x_train, y_train)"
   ]
  },
  {
   "cell_type": "markdown",
   "metadata": {},
   "source": [
    "### 训练集检验"
   ]
  },
  {
   "cell_type": "code",
   "execution_count": 320,
   "metadata": {},
   "outputs": [
    {
     "data": {
      "text/plain": [
       "3.1980674188547304"
      ]
     },
     "execution_count": 320,
     "metadata": {},
     "output_type": "execute_result"
    }
   ],
   "source": [
    "y_pred_rf = forest_reg.predict(x_train)\n",
    "forest_mse = mean_squared_error(y_train, y_pred_rf)\n",
    "forest_rmse = np.sqrt(forest_mse)\n",
    "forest_rmse"
   ]
  },
  {
   "cell_type": "markdown",
   "metadata": {},
   "source": [
    "误差为3.1980674188547304"
   ]
  },
  {
   "cell_type": "markdown",
   "metadata": {},
   "source": [
    "### 测试集检验"
   ]
  },
  {
   "cell_type": "code",
   "execution_count": 322,
   "metadata": {},
   "outputs": [
    {
     "data": {
      "text/plain": [
       "4.5536604518702575"
      ]
     },
     "execution_count": 322,
     "metadata": {},
     "output_type": "execute_result"
    }
   ],
   "source": [
    "y_pred_rf_test = forest_reg.predict(x_test)\n",
    "forest_mse = mean_squared_error(y_test, y_pred_rf_test)\n",
    "forest_rmse = np.sqrt(forest_mse)\n",
    "forest_rmse"
   ]
  },
  {
   "cell_type": "markdown",
   "metadata": {},
   "source": [
    "测试集标准差4.5536604518702575"
   ]
  },
  {
   "cell_type": "code",
   "execution_count": 355,
   "metadata": {},
   "outputs": [],
   "source": [
    "#datas_test.head(10)"
   ]
  },
  {
   "cell_type": "code",
   "execution_count": 324,
   "metadata": {},
   "outputs": [
    {
     "data": {
      "text/plain": [
       "array([[ 7.73      ],\n",
       "       [11.4861727 ],\n",
       "       [ 9.33285714],\n",
       "       [ 7.4       ],\n",
       "       [ 9.275     ],\n",
       "       [16.1       ],\n",
       "       [15.60247655],\n",
       "       [ 8.45447109],\n",
       "       [ 8.05528666],\n",
       "       [11.12662698]])"
      ]
     },
     "execution_count": 324,
     "metadata": {},
     "output_type": "execute_result"
    }
   ],
   "source": [
    "y_pred_rf[:10].reshape(10, 1)"
   ]
  },
  {
   "cell_type": "markdown",
   "metadata": {},
   "source": [
    "# 变量重要性"
   ]
  },
  {
   "cell_type": "code",
   "execution_count": 353,
   "metadata": {},
   "outputs": [
    {
     "data": {
      "text/plain": [
       "[(0.058026406821841056, '大专'),\n",
       " (0.031263812251122784, '10000人以上'),\n",
       " (0.020290832343490904, '1000-9999人'),\n",
       " (0.018095521323951716, '20-99人'),\n",
       " (0.015872193036716557, '100-499人'),\n",
       " (0.015170706225377684, '硕士'),\n",
       " (0.014925513158681906, '北京'),\n",
       " (0.014193573528348177, '500-999人'),\n",
       " (0.013911459035214633, '0-20人'),\n",
       " (0.011434958956342767, '深圳'),\n",
       " (0.011310119828051196, '本科'),\n",
       " (0.01002918014973044, '丽水'),\n",
       " (0.0096919398776096, '杭州'),\n",
       " (0.009393127333069419, '温州'),\n",
       " (0.00912590555299951, '学历不限'),\n",
       " (0.009077835450701817, '台州'),\n",
       " (0.008986219951521799, '舟山'),\n",
       " (0.008834491150945197, '绍兴'),\n",
       " (0.008656335871500801, '金华'),\n",
       " (0.008413046832938394, '湖州')]"
      ]
     },
     "execution_count": 353,
     "metadata": {},
     "output_type": "execute_result"
    }
   ],
   "source": [
    "#forest_reg.feature_importances_\n",
    "labellist = []\n",
    "\n",
    "for item in cat_encoder.categories_[0]:\n",
    "    labellist.append(item)\n",
    "    \n",
    "for item in cat_encoder.categories_[1]:\n",
    "    labellist.append(item)\n",
    "    \n",
    "for item in cat_encoder.categories_[2]:\n",
    "    labellist.append(item)\n",
    "#labellist\n",
    "sorted(zip(forest_reg.feature_importances_,labellist), reverse=True)[:20]"
   ]
  },
  {
   "cell_type": "code",
   "execution_count": 369,
   "metadata": {},
   "outputs": [
    {
     "data": {
      "text/html": [
       "<div>\n",
       "<style scoped>\n",
       "    .dataframe tbody tr th:only-of-type {\n",
       "        vertical-align: middle;\n",
       "    }\n",
       "\n",
       "    .dataframe tbody tr th {\n",
       "        vertical-align: top;\n",
       "    }\n",
       "\n",
       "    .dataframe thead th {\n",
       "        text-align: right;\n",
       "    }\n",
       "</style>\n",
       "<table border=\"1\" class=\"dataframe\">\n",
       "  <thead>\n",
       "    <tr style=\"text-align: right;\">\n",
       "      <th></th>\n",
       "      <th>重要性</th>\n",
       "    </tr>\n",
       "  </thead>\n",
       "  <tbody>\n",
       "    <tr>\n",
       "      <th>大专</th>\n",
       "      <td>0.058026</td>\n",
       "    </tr>\n",
       "    <tr>\n",
       "      <th>10000人以上</th>\n",
       "      <td>0.031264</td>\n",
       "    </tr>\n",
       "    <tr>\n",
       "      <th>1000-9999人</th>\n",
       "      <td>0.020291</td>\n",
       "    </tr>\n",
       "    <tr>\n",
       "      <th>20-99人</th>\n",
       "      <td>0.018096</td>\n",
       "    </tr>\n",
       "    <tr>\n",
       "      <th>100-499人</th>\n",
       "      <td>0.015872</td>\n",
       "    </tr>\n",
       "    <tr>\n",
       "      <th>硕士</th>\n",
       "      <td>0.015171</td>\n",
       "    </tr>\n",
       "    <tr>\n",
       "      <th>北京</th>\n",
       "      <td>0.014926</td>\n",
       "    </tr>\n",
       "    <tr>\n",
       "      <th>500-999人</th>\n",
       "      <td>0.014194</td>\n",
       "    </tr>\n",
       "    <tr>\n",
       "      <th>0-20人</th>\n",
       "      <td>0.013911</td>\n",
       "    </tr>\n",
       "    <tr>\n",
       "      <th>深圳</th>\n",
       "      <td>0.011435</td>\n",
       "    </tr>\n",
       "    <tr>\n",
       "      <th>本科</th>\n",
       "      <td>0.011310</td>\n",
       "    </tr>\n",
       "    <tr>\n",
       "      <th>丽水</th>\n",
       "      <td>0.010029</td>\n",
       "    </tr>\n",
       "    <tr>\n",
       "      <th>杭州</th>\n",
       "      <td>0.009692</td>\n",
       "    </tr>\n",
       "    <tr>\n",
       "      <th>温州</th>\n",
       "      <td>0.009393</td>\n",
       "    </tr>\n",
       "    <tr>\n",
       "      <th>学历不限</th>\n",
       "      <td>0.009126</td>\n",
       "    </tr>\n",
       "    <tr>\n",
       "      <th>台州</th>\n",
       "      <td>0.009078</td>\n",
       "    </tr>\n",
       "    <tr>\n",
       "      <th>舟山</th>\n",
       "      <td>0.008986</td>\n",
       "    </tr>\n",
       "    <tr>\n",
       "      <th>绍兴</th>\n",
       "      <td>0.008834</td>\n",
       "    </tr>\n",
       "    <tr>\n",
       "      <th>金华</th>\n",
       "      <td>0.008656</td>\n",
       "    </tr>\n",
       "    <tr>\n",
       "      <th>湖州</th>\n",
       "      <td>0.008413</td>\n",
       "    </tr>\n",
       "  </tbody>\n",
       "</table>\n",
       "</div>"
      ],
      "text/plain": [
       "                 重要性\n",
       "大专          0.058026\n",
       "10000人以上    0.031264\n",
       "1000-9999人  0.020291\n",
       "20-99人      0.018096\n",
       "100-499人    0.015872\n",
       "硕士          0.015171\n",
       "北京          0.014926\n",
       "500-999人    0.014194\n",
       "0-20人       0.013911\n",
       "深圳          0.011435\n",
       "本科          0.011310\n",
       "丽水          0.010029\n",
       "杭州          0.009692\n",
       "温州          0.009393\n",
       "学历不限        0.009126\n",
       "台州          0.009078\n",
       "舟山          0.008986\n",
       "绍兴          0.008834\n",
       "金华          0.008656\n",
       "湖州          0.008413"
      ]
     },
     "execution_count": 369,
     "metadata": {},
     "output_type": "execute_result"
    }
   ],
   "source": [
    "from pandas import DataFrame\n",
    "# 转换成 DataFrame格式\n",
    "sorted(zip(forest_reg.feature_importances_,labellist), reverse=True)[:20][0]\n",
    "list1 = []\n",
    "list2 = []\n",
    "for item in sorted(zip(forest_reg.feature_importances_,labellist), reverse=True)[:20]:\n",
    "    list1.append(item[1])\n",
    "    list2.append(item[0])\n",
    "df_importance = DataFrame(list2,index=list1,columns=['重要性'])\n",
    "df_importance"
   ]
  },
  {
   "cell_type": "markdown",
   "metadata": {},
   "source": [
    "# 变量重要性分析"
   ]
  },
  {
   "cell_type": "markdown",
   "metadata": {},
   "source": [
    "## 选取前20个重要变量"
   ]
  },
  {
   "cell_type": "markdown",
   "metadata": {},
   "source": [
    "1.很多公司招聘时往往将学历要求设置为'大专'（即不设门槛，只挑选有能力者）"
   ]
  },
  {
   "cell_type": "markdown",
   "metadata": {},
   "source": [
    "2.公司规模是影响数据分析师薪资方面的重要变量，其中'10000人以上'的大公司在薪资高低方面的影响力最大。"
   ]
  },
  {
   "cell_type": "markdown",
   "metadata": {},
   "source": [
    "3.也有许多公司将'硕士学历'设为数据分析师的门槛，因此'硕士学历'在数据分析师薪资方面影响较大。"
   ]
  },
  {
   "cell_type": "markdown",
   "metadata": {},
   "source": [
    "4.城市/地域方面：可以看到北京、深圳的职位对薪资的影响最大；其次，丽水、杭州、温州、台州、舟山、绍兴、金华等均为浙江省的市，可以明显看出浙江省数据分析师的薪资待遇较高。"
   ]
  },
  {
   "cell_type": "code",
   "execution_count": 370,
   "metadata": {},
   "outputs": [],
   "source": [
    "#datas_train[datas_train['学历要求'] == '大专'].head()"
   ]
  },
  {
   "cell_type": "markdown",
   "metadata": {},
   "source": [
    "# 自定义变量预测"
   ]
  },
  {
   "cell_type": "code",
   "execution_count": 451,
   "metadata": {},
   "outputs": [
    {
     "data": {
      "text/plain": [
       "[array(['三明', '上海', '东沙群岛', '东莞', '东营', '中山', '临沂', '丽水', '乐山', '云浮', '亳州',\n",
       "        '仙桃', '佛山', '六安', '内江', '凉山', '北京', '十堰', '南京', '南充', '南平', '南通',\n",
       "        '南阳', '厦门', '台州', '合肥', '周口', '咸宁', '咸阳', '商丘', '商洛', '嘉兴', '大连',\n",
       "        '天津', '天门', '威海', '娄底', '孝感', '宁德', '安庆', '安康', '安阳', '宜宾', '宜昌',\n",
       "        '宣城', '宿州', '宿迁', '岳阳', '巴中', '常州', '常德', '平顶山', '广元', '广安', '广州',\n",
       "        '开封', '张家界', '徐州', '德阳', '怀化', '恩施', '惠州', '成都', '扬州', '揭阳', '攀枝花',\n",
       "        '新乡', '日照', '杭州', '枣庄', '株洲', '梅州', '武汉', '永州', '汕头', '汕尾', '江门',\n",
       "        '池州', '河源', '泉州', '泰安', '泰州', '泸州', '洛阳', '济南', '济宁', '淄博', '淮北',\n",
       "        '淮安', '深圳', '清远', '温州', '湖州', '湘潭', '湘西', '湛江', '滨州', '漯河', '漳州',\n",
       "        '潍坊', '潜江', '潮州', '烟台', '珠海', '甘孜', '益阳', '盐城', '眉山', '神农架', '福州',\n",
       "        '绍兴', '绵阳', '聊城', '肇庆', '自贡', '舟山', '芜湖', '苏州', '茂名', '荆州', '荆门',\n",
       "        '莆田', '莱芜', '菏泽', '衡阳', '衢州', '襄阳', '西安', '资阳', '达州', '连云港', '遂宁',\n",
       "        '邵阳', '郑州', '郴州', '鄂州', '金华', '铜川', '镇江', '长沙', '阜阳', '阳江', '阿坝',\n",
       "        '随州', '雅安', '韶关', '黄冈', '黄山', '黄石', '龙岩'], dtype=object),\n",
       " array(['0-20人', '100-499人', '1000-9999人', '10000人以上', '20-99人',\n",
       "        '500-999人'], dtype=object),\n",
       " array(['中专', '博士', '大专', '学历不限', '本科', '硕士', '高中'], dtype=object),\n",
       " array(['1-3年', '1年以内', '3-5年', '5-10年', '经验不限'], dtype=object)]"
      ]
     },
     "execution_count": 451,
     "metadata": {},
     "output_type": "execute_result"
    }
   ],
   "source": [
    "cat_encoder.categories_ #可选预测变量"
   ]
  },
  {
   "cell_type": "markdown",
   "metadata": {},
   "source": [
    "## 决策树预测 "
   ]
  },
  {
   "cell_type": "code",
   "execution_count": 452,
   "metadata": {},
   "outputs": [
    {
     "data": {
      "text/plain": [
       "array([15.])"
      ]
     },
     "execution_count": 452,
     "metadata": {},
     "output_type": "execute_result"
    }
   ],
   "source": [
    "#paramlist = func_params(['上海','1000-9999人','硕士','1-3年'])\n",
    "Y_pred_dt = tree_reg.predict(paramlist)\n",
    "Y_pred_dt"
   ]
  },
  {
   "cell_type": "code",
   "execution_count": 458,
   "metadata": {},
   "outputs": [
    {
     "data": {
      "text/plain": [
       "array([13.5])"
      ]
     },
     "execution_count": 458,
     "metadata": {},
     "output_type": "execute_result"
    }
   ],
   "source": [
    "paramlist2 = func_params(['北京','500-999人','本科','1-3年'])\n",
    "tree_reg.predict(paramlist2)"
   ]
  },
  {
   "cell_type": "markdown",
   "metadata": {},
   "source": [
    "## 随机森林预测"
   ]
  },
  {
   "cell_type": "code",
   "execution_count": 469,
   "metadata": {},
   "outputs": [
    {
     "data": {
      "text/plain": [
       "array([12.63888889])"
      ]
     },
     "execution_count": 469,
     "metadata": {},
     "output_type": "execute_result"
    }
   ],
   "source": [
    "paramlist3 = func_params(['深圳','100-499人','硕士','1年以内'])\n",
    "tree_reg.predict(paramlist3)"
   ]
  },
  {
   "cell_type": "code",
   "execution_count": 476,
   "metadata": {},
   "outputs": [
    {
     "data": {
      "text/plain": [
       "array([15.])"
      ]
     },
     "execution_count": 476,
     "metadata": {},
     "output_type": "execute_result"
    }
   ],
   "source": [
    "paramlist4 = func_params(['上海','1000-9999人','硕士','1年以内'])\n",
    "tree_reg.predict(paramlist4)"
   ]
  },
  {
   "cell_type": "code",
   "execution_count": null,
   "metadata": {
    "collapsed": true
   },
   "outputs": [],
   "source": []
  }
 ],
 "metadata": {
  "kernelspec": {
   "display_name": "Python 3",
   "language": "python",
   "name": "python3"
  },
  "language_info": {
   "codemirror_mode": {
    "name": "ipython",
    "version": 3
   },
   "file_extension": ".py",
   "mimetype": "text/x-python",
   "name": "python",
   "nbconvert_exporter": "python",
   "pygments_lexer": "ipython3",
   "version": "3.6.3"
  }
 },
 "nbformat": 4,
 "nbformat_minor": 2
}
